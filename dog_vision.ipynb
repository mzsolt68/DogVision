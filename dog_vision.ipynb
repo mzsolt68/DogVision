{
  "nbformat": 4,
  "nbformat_minor": 0,
  "metadata": {
    "colab": {
      "provenance": [],
      "gpuType": "T4",
      "mount_file_id": "1uzvP409-BkDkfGOrePIsP57TDqw_57Kb",
      "authorship_tag": "ABX9TyOmqV4M0hWt+S3e0flX3+NX"
    },
    "kernelspec": {
      "name": "python3",
      "display_name": "Python 3"
    },
    "language_info": {
      "name": "python"
    },
    "accelerator": "GPU"
  },
  "cells": [
    {
      "cell_type": "markdown",
      "source": [
        "# End-to-end Multi-class Dog Breed Classification (v2)\n",
        "\n",
        "Building an end-to-end multi-class image classifier using TensorFlow\n",
        "\n",
        "## 1. Problem\n",
        "\n",
        "Identifying the breed of a dog from a given image\n",
        "\n",
        "## 2. Data\n",
        "\n",
        "We're going to use the Stanford Dogs dataset, which is available from several sources:\n",
        "* The original project website: http://vision.stanford.edu/aditya86/ImageNetDogs/\n",
        "* Inside the Tensorflow datasets: https://www.tensorflow.org/datasets/catalog/stanford_dogs\n",
        "* On Kaggle: https://www.kaggle.com/datasets/jessicali9530/stanford-dogs-dataset\n",
        "\n",
        "## 3. Using the data\n",
        "\n",
        "To make sure we don't have to download the data every time we come back to Colab:\n",
        "* Download the data to the attached Google Drive if it doesn't already exists\n",
        "* Copy the data to the Google drive if it isn't already there\n",
        "* If the data already exists on Google Drive We'll import it\n",
        "\n",
        "## 4. Features\n",
        "\n",
        "Some information about the data:\n",
        "* We are dealing with unstructured data (images), so it is probably best we use deeep learning/transfer learning.\n",
        "* There are 120 breeds of dogs, this means there are 120 different classes).\n",
        "* Around 10,000+ images in the training set (these images have labels)\n",
        "* Around 10,000+ images in the test set\n"
      ],
      "metadata": {
        "id": "0VwaLo79sNPi"
      }
    },
    {
      "cell_type": "code",
      "source": [
        "# Quick timestamp\n",
        "import datetime\n",
        "print(f\"Notebook last run: {datetime.datetime.now()}\")"
      ],
      "metadata": {
        "colab": {
          "base_uri": "https://localhost:8080/"
        },
        "id": "Y2DNaKLF_Dye",
        "outputId": "97a76ee4-2678-4326-cc1b-e29b2d7edcaf"
      },
      "execution_count": 1,
      "outputs": [
        {
          "output_type": "stream",
          "name": "stdout",
          "text": [
            "Notebook last run: 2025-05-10 16:15:56.904158\n"
          ]
        }
      ]
    },
    {
      "cell_type": "code",
      "source": [
        "# Import TensorFlow and check if we have GPU access\n",
        "import tensorflow as tf\n",
        "print(f\"TensorFlow version: {tf.__version__}\")\n",
        "\n",
        "device_list = tf.config.list_physical_devices()\n",
        "if \"GPU\" in [device.device_type for device in device_list]:\n",
        "  print(f\"[INFO] TensorFlow has GPU available to use.\")\n",
        "  print(f\"[INFO] Accessible devices:\\n{device_list}\")\n",
        "else:\n",
        "  print(f\"[INFO] TensorFlow does not have GPU available to use. Models may take a while to train.\")\n",
        "  print(f\"[INFO] Accessible devices:\\n{device_list}\")"
      ],
      "metadata": {
        "colab": {
          "base_uri": "https://localhost:8080/"
        },
        "id": "lbd2DEh0_Xu5",
        "outputId": "ee5119f7-fb62-410b-caba-343bdeeec240"
      },
      "execution_count": 2,
      "outputs": [
        {
          "output_type": "stream",
          "name": "stdout",
          "text": [
            "TensorFlow version: 2.18.0\n",
            "[INFO] TensorFlow has GPU available to use.\n",
            "[INFO] Accessible devices:\n",
            "[PhysicalDevice(name='/physical_device:CPU:0', device_type='CPU'), PhysicalDevice(name='/physical_device:GPU:0', device_type='GPU')]\n"
          ]
        }
      ]
    },
    {
      "cell_type": "markdown",
      "source": [
        "### Getting the data\n",
        "Check if the target files exist in Google Drive and copy them to Colab. If the files doesn't exist, download them."
      ],
      "metadata": {
        "id": "0OYi08W4_7v9"
      }
    },
    {
      "cell_type": "code",
      "source": [
        "from pathlib import Path\n",
        "from google.colab import drive\n",
        "\n",
        "# 1. Mount Google Drive (this will bring up a pop-up to sign-in/authenticate)\n",
        "# Note: This step is specifically for Google Colab, if you're working locally, you may need a different setup\n",
        "# drive.mount(\"/content/drive\")\n",
        "\n",
        "# 2. Setup constants\n",
        "# Note: For constants like this, you'll often see them created as variables with all capitals\n",
        "TARGET_DRIVE_PATH = Path(\"drive/MyDrive/Dog_Vision/Data\")\n",
        "TARGET_FILES = [\"images.tar\", \"annotation.tar\", \"lists.tar\"]\n",
        "TARGET_URL = \"http://vision.stanford.edu/aditya86/ImageNetDogs\"\n",
        "\n",
        "# 3. Setup local path\n",
        "local_dir = Path(\"dog_vision_data\")\n",
        "\n",
        "# 4. Check if the target files exist in Google Drive, if so, copy them to Google Colab\n",
        "if all((TARGET_DRIVE_PATH / file).is_file() for file in TARGET_FILES):\n",
        "  print(f\"[INFO] Copying Dog Vision files from Google Drive to local directory...\")\n",
        "  print(f\"[INFO] Source dir: {TARGET_DRIVE_PATH} -> Target dir: {local_dir}\")\n",
        "  !cp -r {TARGET_DRIVE_PATH} {local_dir}\n",
        "  print(\"[INFO] Good to go!\")\n",
        "\n",
        "else:\n",
        "  # 5. If the files don't exist in Google Drive, download them\n",
        "  print(f\"[INFO] Target files not found in Google Drive.\")\n",
        "  print(f\"[INFO] Downloading the target files... this shouldn't take too long...\")\n",
        "  for file in TARGET_FILES:\n",
        "    # wget is short for \"world wide web get\", as in \"get a file from the web\"\n",
        "    # -nc or --no-clobber = don't download files that already exist locally\n",
        "    # -P = save the target file to a specified prefix, in our case, local_dir\n",
        "    !wget -nc {TARGET_URL}/{file} -P {local_dir} # the \"!\" means to execute the command on the command line rather than in Python\n",
        "\n",
        "  print(f\"[INFO] Saving the target files to Google Drive, so they can be loaded later...\")\n",
        "\n",
        "  # 6. Ensure target directory in Google Drive exists\n",
        "  TARGET_DRIVE_PATH.mkdir(parents=True, exist_ok=True)\n",
        "\n",
        "  # 7. Copy downloaded files to Google Drive (so we can use them later and not have to re-download them)\n",
        "  !cp -r {local_dir}/* {TARGET_DRIVE_PATH}/"
      ],
      "metadata": {
        "id": "eHwSjZ_6ABjC",
        "colab": {
          "base_uri": "https://localhost:8080/"
        },
        "outputId": "65471797-a4e6-43bc-83dd-b01b7d954543"
      },
      "execution_count": 3,
      "outputs": [
        {
          "output_type": "stream",
          "name": "stdout",
          "text": [
            "[INFO] Copying Dog Vision files from Google Drive to local directory...\n",
            "[INFO] Source dir: drive/MyDrive/Dog_Vision/Data -> Target dir: dog_vision_data\n",
            "[INFO] Good to go!\n"
          ]
        }
      ]
    },
    {
      "cell_type": "code",
      "source": [
        "# Make sure the files are exist\n",
        "if local_dir.exists():\n",
        "  print(str(local_dir) + \"/\")\n",
        "  for item in local_dir.iterdir():\n",
        "    print(\"  \", item.name)"
      ],
      "metadata": {
        "id": "_jQbOkfWB6p4",
        "colab": {
          "base_uri": "https://localhost:8080/"
        },
        "outputId": "be2dd74a-6c3b-4edb-f033-4440fb25a58f"
      },
      "execution_count": 4,
      "outputs": [
        {
          "output_type": "stream",
          "name": "stdout",
          "text": [
            "dog_vision_data/\n",
            "   annotation.tar\n",
            "   lists.tar\n",
            "   images.tar\n"
          ]
        }
      ]
    },
    {
      "cell_type": "code",
      "source": [
        "# Untar the images, notes/tags\n",
        "!tar -xf {local_dir}/images.tar -C {local_dir}\n",
        "!tar -xf {local_dir}/annotation.tar -C {local_dir}\n",
        "!tar -xf {local_dir}/lists.tar -C {local_dir}\n"
      ],
      "metadata": {
        "id": "J6lD7f_ICqt8"
      },
      "execution_count": 5,
      "outputs": []
    },
    {
      "cell_type": "markdown",
      "source": [
        "We've got some new files.\n",
        "Specifically:\n",
        "\n",
        "* `train_list.mat` - a list of all the training set images.\n",
        "* `test_list.mat` - a list of all the testing set images.\n",
        "* `Images/` - a folder containing all of the images of dogs.\n",
        "* `Annotation/` - a folder containing all of the annotations for each image.\n",
        "* `file_list.mat` - a list of all the files (training and test list combined).\n"
      ],
      "metadata": {
        "id": "D2NzvDlJDoxt"
      }
    },
    {
      "cell_type": "markdown",
      "source": [
        "### Exploring the data\n",
        "Before we build a model, it's good to explore the data to see what kind of data we're working with. For example:\n",
        "* **Check at least 100+ random samples** if you have a large dataset.\n",
        "* **Visualize!**\n",
        "* **Check the distribution and other statistics.** How many samples are there? In a classification problem, how many classes and labels per class are there? etc."
      ],
      "metadata": {
        "id": "81MY3j-dFu6a"
      }
    },
    {
      "cell_type": "markdown",
      "source": [
        "#### Exploring the files lists"
      ],
      "metadata": {
        "id": "E0vUvt97MgSb"
      }
    },
    {
      "cell_type": "code",
      "source": [
        "# Open the MATLAB files\n",
        "import scipy\n",
        "\n",
        "# Open lists of train and test .mat\n",
        "train_list = scipy.io.loadmat(Path(local_dir, \"train_list.mat\"))\n",
        "test_list = scipy.io.loadmat(Path(local_dir, \"test_list.mat\"))\n",
        "file_list = scipy.io.loadmat(Path(local_dir, \"file_list.mat\"))\n",
        "\n",
        "# Let's inspect the output and type of the train_list\n",
        "train_list, type(train_list)"
      ],
      "metadata": {
        "id": "y6uzipa-EOeW",
        "colab": {
          "base_uri": "https://localhost:8080/"
        },
        "outputId": "20774a80-c956-491e-a364-b1c202c750d9"
      },
      "execution_count": 6,
      "outputs": [
        {
          "output_type": "execute_result",
          "data": {
            "text/plain": [
              "({'__header__': b'MATLAB 5.0 MAT-file, Platform: GLNXA64, Created on: Sun Oct  9 08:36:13 2011',\n",
              "  '__version__': '1.0',\n",
              "  '__globals__': [],\n",
              "  'file_list': array([[array(['n02085620-Chihuahua/n02085620_5927.jpg'], dtype='<U38')],\n",
              "         [array(['n02085620-Chihuahua/n02085620_4441.jpg'], dtype='<U38')],\n",
              "         [array(['n02085620-Chihuahua/n02085620_1502.jpg'], dtype='<U38')],\n",
              "         ...,\n",
              "         [array(['n02116738-African_hunting_dog/n02116738_6754.jpg'], dtype='<U48')],\n",
              "         [array(['n02116738-African_hunting_dog/n02116738_9333.jpg'], dtype='<U48')],\n",
              "         [array(['n02116738-African_hunting_dog/n02116738_2503.jpg'], dtype='<U48')]],\n",
              "        dtype=object),\n",
              "  'annotation_list': array([[array(['n02085620-Chihuahua/n02085620_5927'], dtype='<U34')],\n",
              "         [array(['n02085620-Chihuahua/n02085620_4441'], dtype='<U34')],\n",
              "         [array(['n02085620-Chihuahua/n02085620_1502'], dtype='<U34')],\n",
              "         ...,\n",
              "         [array(['n02116738-African_hunting_dog/n02116738_6754'], dtype='<U44')],\n",
              "         [array(['n02116738-African_hunting_dog/n02116738_9333'], dtype='<U44')],\n",
              "         [array(['n02116738-African_hunting_dog/n02116738_2503'], dtype='<U44')]],\n",
              "        dtype=object),\n",
              "  'labels': array([[  1],\n",
              "         [  1],\n",
              "         [  1],\n",
              "         ...,\n",
              "         [120],\n",
              "         [120],\n",
              "         [120]], dtype=uint8)},\n",
              " dict)"
            ]
          },
          "metadata": {},
          "execution_count": 6
        }
      ]
    },
    {
      "cell_type": "code",
      "source": [
        "# Check out the keys of the train_list dictionary\n",
        "train_list.keys()"
      ],
      "metadata": {
        "colab": {
          "base_uri": "https://localhost:8080/"
        },
        "id": "v5TV2aFzKXAh",
        "outputId": "9af7143d-6d95-4c61-a498-6b82d4c99e87"
      },
      "execution_count": 7,
      "outputs": [
        {
          "output_type": "execute_result",
          "data": {
            "text/plain": [
              "dict_keys(['__header__', '__version__', '__globals__', 'file_list', 'annotation_list', 'labels'])"
            ]
          },
          "metadata": {},
          "execution_count": 7
        }
      ]
    },
    {
      "cell_type": "code",
      "source": [
        "# Check the length of the file_list key\n",
        "print(f\"Number of files in training list: {len(train_list['file_list'])}\")\n",
        "print(f\"Number of files in testing list: {len(test_list['file_list'])}\")\n",
        "print(f\"Number of files in full list: {len(file_list['file_list'])}\")"
      ],
      "metadata": {
        "id": "RYheiPqvLwyW",
        "colab": {
          "base_uri": "https://localhost:8080/"
        },
        "outputId": "81e758b1-3d89-4fbe-b130-a82b82f45d48"
      },
      "execution_count": 8,
      "outputs": [
        {
          "output_type": "stream",
          "name": "stdout",
          "text": [
            "Number of files in training list: 12000\n",
            "Number of files in testing list: 8580\n",
            "Number of files in full list: 20580\n"
          ]
        }
      ]
    },
    {
      "cell_type": "markdown",
      "source": [
        "We have 20580 images total splitted in 60/40 ratio between train and test."
      ],
      "metadata": {
        "id": "j4l5Zl_xMDuS"
      }
    },
    {
      "cell_type": "code",
      "source": [
        "# Inspect the file_list key more\n",
        "train_list['file_list']\n"
      ],
      "metadata": {
        "id": "Hvf96EWAMsfE",
        "colab": {
          "base_uri": "https://localhost:8080/"
        },
        "outputId": "e0f7aa7e-be5f-44d9-fe46-3ed6082188d6"
      },
      "execution_count": 9,
      "outputs": [
        {
          "output_type": "execute_result",
          "data": {
            "text/plain": [
              "array([[array(['n02085620-Chihuahua/n02085620_5927.jpg'], dtype='<U38')],\n",
              "       [array(['n02085620-Chihuahua/n02085620_4441.jpg'], dtype='<U38')],\n",
              "       [array(['n02085620-Chihuahua/n02085620_1502.jpg'], dtype='<U38')],\n",
              "       ...,\n",
              "       [array(['n02116738-African_hunting_dog/n02116738_6754.jpg'], dtype='<U48')],\n",
              "       [array(['n02116738-African_hunting_dog/n02116738_9333.jpg'], dtype='<U48')],\n",
              "       [array(['n02116738-African_hunting_dog/n02116738_2503.jpg'], dtype='<U48')]],\n",
              "      dtype=object)"
            ]
          },
          "metadata": {},
          "execution_count": 9
        }
      ]
    },
    {
      "cell_type": "code",
      "source": [
        "# Get a single filename\n",
        "train_list['file_list'][0][0][0]"
      ],
      "metadata": {
        "id": "nvNOkSshNS_g",
        "colab": {
          "base_uri": "https://localhost:8080/",
          "height": 34
        },
        "outputId": "accf4af0-2670-44d5-cfd7-6690a308adee"
      },
      "execution_count": 10,
      "outputs": [
        {
          "output_type": "execute_result",
          "data": {
            "text/plain": [
              "np.str_('n02085620-Chihuahua/n02085620_5927.jpg')"
            ],
            "application/vnd.google.colaboratory.intrinsic+json": {
              "type": "string"
            }
          },
          "metadata": {},
          "execution_count": 10
        }
      ]
    },
    {
      "cell_type": "code",
      "source": [
        "# Get a Python list of all file names for each list\n",
        "train_file_list = list([item[0][0] for item in train_list[\"file_list\"]])\n",
        "test_file_list = list([item[0][0] for item in test_list[\"file_list\"]])\n",
        "full_file_list = list([item[0][0] for item in file_list[\"file_list\"]])\n",
        "\n",
        "len(train_file_list), len(test_file_list), len(full_file_list)"
      ],
      "metadata": {
        "id": "eJeb59hwNhfP",
        "colab": {
          "base_uri": "https://localhost:8080/"
        },
        "outputId": "2c015d12-d5fb-4ce4-e955-132fa8886fb5"
      },
      "execution_count": 11,
      "outputs": [
        {
          "output_type": "execute_result",
          "data": {
            "text/plain": [
              "(12000, 8580, 20580)"
            ]
          },
          "metadata": {},
          "execution_count": 11
        }
      ]
    },
    {
      "cell_type": "code",
      "source": [
        "# Get some random samples\n",
        "import random\n",
        "\n",
        "random.sample(train_file_list, k=10)"
      ],
      "metadata": {
        "id": "aXkS0wOtN-kP",
        "colab": {
          "base_uri": "https://localhost:8080/"
        },
        "outputId": "98872775-63fb-4d81-c928-daa59113b831"
      },
      "execution_count": 12,
      "outputs": [
        {
          "output_type": "execute_result",
          "data": {
            "text/plain": [
              "[np.str_('n02087394-Rhodesian_ridgeback/n02087394_909.jpg'),\n",
              " np.str_('n02108089-boxer/n02108089_5753.jpg'),\n",
              " np.str_('n02106166-Border_collie/n02106166_5607.jpg'),\n",
              " np.str_('n02092339-Weimaraner/n02092339_7959.jpg'),\n",
              " np.str_('n02100877-Irish_setter/n02100877_3056.jpg'),\n",
              " np.str_('n02111129-Leonberg/n02111129_861.jpg'),\n",
              " np.str_('n02116738-African_hunting_dog/n02116738_3365.jpg'),\n",
              " np.str_('n02109961-Eskimo_dog/n02109961_4157.jpg'),\n",
              " np.str_('n02110806-basenji/n02110806_884.jpg'),\n",
              " np.str_('n02116738-African_hunting_dog/n02116738_4796.jpg')]"
            ]
          },
          "metadata": {},
          "execution_count": 12
        }
      ]
    },
    {
      "cell_type": "markdown",
      "source": [
        "Make sure that the training set and the test set doesn't have common items"
      ],
      "metadata": {
        "id": "tHWKdn36RFqS"
      }
    },
    {
      "cell_type": "code",
      "source": [
        "# How many files in the training set intersect with the testing set?\n",
        "len(set(train_file_list).intersection(test_file_list))"
      ],
      "metadata": {
        "id": "4n4VU746RCNm",
        "colab": {
          "base_uri": "https://localhost:8080/"
        },
        "outputId": "9d4ba00c-5f6d-4f20-d852-ded67864c38c"
      },
      "execution_count": 13,
      "outputs": [
        {
          "output_type": "execute_result",
          "data": {
            "text/plain": [
              "0"
            ]
          },
          "metadata": {},
          "execution_count": 13
        }
      ]
    },
    {
      "cell_type": "markdown",
      "source": [
        "#### Exploring the Annotation folder"
      ],
      "metadata": {
        "id": "uKTF4C_F_kAN"
      }
    },
    {
      "cell_type": "code",
      "source": [
        "import os\n",
        "\n",
        "os.listdir(f\"{local_dir}/Annotation\")[:10]"
      ],
      "metadata": {
        "colab": {
          "base_uri": "https://localhost:8080/"
        },
        "id": "QtFhompu_oNa",
        "outputId": "bdb1d68b-4da5-4035-8c5c-9fd8c3ae18f2"
      },
      "execution_count": 16,
      "outputs": [
        {
          "output_type": "execute_result",
          "data": {
            "text/plain": [
              "['n02091244-Ibizan_hound',\n",
              " 'n02109961-Eskimo_dog',\n",
              " 'n02099429-curly-coated_retriever',\n",
              " 'n02101388-Brittany_spaniel',\n",
              " 'n02102177-Welsh_springer_spaniel',\n",
              " 'n02093256-Staffordshire_bullterrier',\n",
              " 'n02098286-West_Highland_white_terrier',\n",
              " 'n02100735-English_setter',\n",
              " 'n02102973-Irish_water_spaniel',\n",
              " 'n02095889-Sealyham_terrier']"
            ]
          },
          "metadata": {},
          "execution_count": 16
        }
      ]
    },
    {
      "cell_type": "markdown",
      "source": [
        "There are directories with dog breed names with several numbered files inside.\n",
        "Each of the numbered files contains a HTML version.\n",
        "For example, `Annotation/n02085620-Chihuahua/n02085620_10074`:\n",
        "\n",
        "```\n",
        "<annotation>\n",
        "\t<folder>02085620</folder>\n",
        "\t<filename>n02085620_10074</filename>\n",
        "\t<source>\n",
        "\t\t<database>ImageNet database</database>\n",
        "\t</source>\n",
        "\t<size>\n",
        "\t\t<width>333</width>\n",
        "\t\t<height>500</height>\n",
        "\t\t<depth>3</depth>\n",
        "\t</size>\n",
        "\t<segment>0</segment>\n",
        "\t<object>\n",
        "\t\t<name>Chihuahua</name>\n",
        "\t\t<pose>Unspecified</pose>\n",
        "\t\t<truncated>0</truncated>\n",
        "\t\t<difficult>0</difficult>\n",
        "\t\t<bndbox>\n",
        "\t\t\t<xmin>25</xmin>\n",
        "\t\t\t<ymin>10</ymin>\n",
        "\t\t\t<xmax>276</xmax>\n",
        "\t\t\t<ymax>498</ymax>\n",
        "\t\t</bndbox>\n",
        "\t</object>\n",
        "</annotation>\n",
        "```\n",
        "\n",
        "The fields include the name and the size of the image, the label of the object, and where it is insid ethe image (bounding box)."
      ],
      "metadata": {
        "id": "nsMEjIOMBeIi"
      }
    },
    {
      "cell_type": "markdown",
      "source": [
        "Write e function to check the number of subfolders inside the `Annotation` folder (there should be 120 subfolder, one for each dog breed)."
      ],
      "metadata": {
        "id": "Z0thxTFsFt5z"
      }
    },
    {
      "cell_type": "code",
      "source": [
        "from pathlib import Path\n",
        "\n",
        "def count_subfolders(path: str) -> int:\n",
        "  \"\"\"\n",
        "    Count the number of subfolders in a given directory.\n",
        "\n",
        "    Args:\n",
        "    path (str): The path to the directory in which to count subfolders.\n",
        "\n",
        "    Returns:\n",
        "    int: The number of subfolders in the specified directory.\n",
        "\n",
        "    Examples:\n",
        "    >>> count_subfolders('/path/to/directory')\n",
        "    3  # if there are 3 subfolders in the specified directory\n",
        "  \"\"\"\n",
        "  return len([item for item in Path(path).iterdir() if item.is_dir()])\n",
        "\n",
        "annotation_path = f\"{local_dir}/Annotation\"\n",
        "folder_count = count_subfolders(annotation_path)\n",
        "print(f\"Number of subfolders in {annotation_path}: {folder_count}\")"
      ],
      "metadata": {
        "colab": {
          "base_uri": "https://localhost:8080/"
        },
        "id": "yAddT9NZGOCx",
        "outputId": "0224fc7e-055c-4cd1-f043-f3b0b7c3d7da"
      },
      "execution_count": 19,
      "outputs": [
        {
          "output_type": "stream",
          "name": "stdout",
          "text": [
            "Number of subfolders in dog_vision_data/Annotation: 120\n"
          ]
        }
      ]
    },
    {
      "cell_type": "markdown",
      "source": [
        "There are 120 subfolder of annotations, one for each class of dog.\n",
        "\n",
        "But it looks like the class names are already in the filepaths."
      ],
      "metadata": {
        "id": "tBdXy3JTH1qY"
      }
    },
    {
      "cell_type": "code",
      "source": [
        "# View a single training file pathname\n",
        "train_file_list[0]"
      ],
      "metadata": {
        "colab": {
          "base_uri": "https://localhost:8080/",
          "height": 34
        },
        "id": "vtXeZ3ygIJ-W",
        "outputId": "5175c1da-02ac-4116-83ef-6ab0a52874bd"
      },
      "execution_count": 20,
      "outputs": [
        {
          "output_type": "execute_result",
          "data": {
            "text/plain": [
              "np.str_('n02085620-Chihuahua/n02085620_5927.jpg')"
            ],
            "application/vnd.google.colaboratory.intrinsic+json": {
              "type": "string"
            }
          },
          "metadata": {},
          "execution_count": 20
        }
      ]
    },
    {
      "cell_type": "markdown",
      "source": [
        "So we know, that image `n02085620_5927.jpg` should contain a `Chihuahua`.\n",
        "Let's check."
      ],
      "metadata": {
        "id": "8uf0Y7bQIZYE"
      }
    },
    {
      "cell_type": "code",
      "source": [
        "from IPython.display import Image\n",
        "Image(Path(f\"{local_dir}/Images/\", train_file_list[0]))"
      ],
      "metadata": {
        "colab": {
          "base_uri": "https://localhost:8080/",
          "height": 317
        },
        "id": "qlbcZMcaItBh",
        "outputId": "b5709d08-3e63-474a-ead1-ee5121895bca"
      },
      "execution_count": 21,
      "outputs": [
        {
          "output_type": "execute_result",
          "data": {
            "image/jpeg": "[encoded data removed]",
            "text/plain": [
              "<IPython.core.display.Image object>"
            ]
          },
          "metadata": {},
          "execution_count": 21
        }
      ]
    },
    {
      "cell_type": "markdown",
      "source": [
        "#### Exploring the Images folder\n",
        "\n",
        "We know that the image file names come in the format `class_name/image_name`, for example, `n02085620-Chihuahua/n02085620_5927.jpg`.\n",
        "\n",
        "To make things a little simpler, let's create the following:\n",
        "\n",
        "1. A mapping from folder name -> class name in dictionary form, for example, `{'n02113712-miniature_poodle': 'miniature_poodle',  'n02092339-Weimaraner': 'weimaraner',  'n02093991-Irish_terrier': 'irish_terrier'...}`. This will help us when visualizing our data from its original folder.\n",
        "2. A list of all unique dog class names with simple formatting, for example, `['affenpinscher',  'afghan_hound',  'african_hunting_dog',  'airedale',  'american_staffordshire_terrier'...]`.\n"
      ],
      "metadata": {
        "id": "sp5j3TwiJG27"
      }
    },
    {
      "cell_type": "code",
      "source": [
        "# Get a list of all image folders\n",
        "image_folders = os.listdir(f\"{local_dir}/Images\")\n",
        "image_folders[:10]"
      ],
      "metadata": {
        "colab": {
          "base_uri": "https://localhost:8080/"
        },
        "id": "lkp3UglBKPor",
        "outputId": "aea87710-a52a-487c-851c-6e2af3b3dbb4"
      },
      "execution_count": 22,
      "outputs": [
        {
          "output_type": "execute_result",
          "data": {
            "text/plain": [
              "['n02091244-Ibizan_hound',\n",
              " 'n02109961-Eskimo_dog',\n",
              " 'n02099429-curly-coated_retriever',\n",
              " 'n02101388-Brittany_spaniel',\n",
              " 'n02102177-Welsh_springer_spaniel',\n",
              " 'n02093256-Staffordshire_bullterrier',\n",
              " 'n02098286-West_Highland_white_terrier',\n",
              " 'n02100735-English_setter',\n",
              " 'n02102973-Irish_water_spaniel',\n",
              " 'n02095889-Sealyham_terrier']"
            ]
          },
          "metadata": {},
          "execution_count": 22
        }
      ]
    },
    {
      "cell_type": "code",
      "source": [
        "# Create a foldername -> class name dictionary\n",
        "folder_to_class_dictionary = {}\n",
        "for folder_name in image_folders:\n",
        "  class_name = folder_name.split(\"-\")[1].lower().replace(\"_\", \" \")\n",
        "  folder_to_class_dictionary[folder_name] = class_name\n",
        "\n",
        "# Make sure there are 120 entries in the dictionary\n",
        "assert len(folder_to_class_dictionary) == 120"
      ],
      "metadata": {
        "id": "oAyn-inWKmRm"
      },
      "execution_count": 23,
      "outputs": []
    },
    {
      "cell_type": "code",
      "source": [
        "list(folder_to_class_dictionary.items())[:10]"
      ],
      "metadata": {
        "colab": {
          "base_uri": "https://localhost:8080/"
        },
        "id": "Sgto11W6LQR4",
        "outputId": "263d0e0b-2a9c-45e4-9161-a7ee7b94c907"
      },
      "execution_count": 24,
      "outputs": [
        {
          "output_type": "execute_result",
          "data": {
            "text/plain": [
              "[('n02091244-Ibizan_hound', 'ibizan hound'),\n",
              " ('n02109961-Eskimo_dog', 'eskimo dog'),\n",
              " ('n02099429-curly-coated_retriever', 'curly'),\n",
              " ('n02101388-Brittany_spaniel', 'brittany spaniel'),\n",
              " ('n02102177-Welsh_springer_spaniel', 'welsh springer spaniel'),\n",
              " ('n02093256-Staffordshire_bullterrier', 'staffordshire bullterrier'),\n",
              " ('n02098286-West_Highland_white_terrier', 'west highland white terrier'),\n",
              " ('n02100735-English_setter', 'english setter'),\n",
              " ('n02102973-Irish_water_spaniel', 'irish water spaniel'),\n",
              " ('n02095889-Sealyham_terrier', 'sealyham terrier')]"
            ]
          },
          "metadata": {},
          "execution_count": 24
        }
      ]
    },
    {
      "cell_type": "code",
      "source": [
        "# Get a list of unique dog names\n",
        "dog_names = sorted(list(set(folder_to_class_dictionary.values())))\n",
        "dog_names[:10]"
      ],
      "metadata": {
        "colab": {
          "base_uri": "https://localhost:8080/"
        },
        "id": "riHYTYLPLjdV",
        "outputId": "21b6174f-16f6-422c-bc6a-86456d4b68d9"
      },
      "execution_count": 25,
      "outputs": [
        {
          "output_type": "execute_result",
          "data": {
            "text/plain": [
              "['affenpinscher',\n",
              " 'afghan hound',\n",
              " 'african hunting dog',\n",
              " 'airedale',\n",
              " 'american staffordshire terrier',\n",
              " 'appenzeller',\n",
              " 'australian terrier',\n",
              " 'basenji',\n",
              " 'basset',\n",
              " 'beagle']"
            ]
          },
          "metadata": {},
          "execution_count": 25
        }
      ]
    },
    {
      "cell_type": "markdown",
      "source": [
        "Now we've got:\n",
        "- a mapping from a folder name to a class name: `folder_to_class_dictionary`\n",
        "- a list of unique dog breeds: `dog_names`"
      ],
      "metadata": {
        "id": "T99UjGd-L3Yx"
      }
    }
  ]
}